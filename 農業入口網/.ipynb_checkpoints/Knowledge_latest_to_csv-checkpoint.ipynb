{
 "cells": [
  {
   "cell_type": "code",
   "execution_count": null,
   "metadata": {
    "collapsed": true
   },
   "outputs": [],
   "source": [
    "import pymongo  \n",
    "from pymongo import MongoClient\n",
    "import pyodbc\n",
    "import csv\n",
    "import time\n",
    "from datetime import datetime"
   ]
  },
  {
   "cell_type": "code",
   "execution_count": null,
   "metadata": {
    "collapsed": true
   },
   "outputs": [],
   "source": [
    "##get the collection,all row data\n",
    "uri = \"\"\n",
    "client = MongoClient(uri)\n",
    "db = client.yuming\n",
    "one_document = db.Knowledge_latest\n",
    "\n",
    "total_row=one_document.find({'error':0})\n",
    "\n",
    "data = [\n",
    "  ['artTitle', 'artContent','artDate', 'artUrl','_id', 'nId', 'artBrow_num','artDisc_num','artTrace_num','artOpinion_num','artEva_num','rep_name','rep_member','rep_date'],\n",
    " \n",
    "]\n",
    "\n",
    "##for each article:\n",
    "for row in total_row:\n",
    "    \n",
    "    artContent=row['artContent'].replace('\\xa0',' ')\n",
    "    artDate=datetime.strptime(row['artDate'], '%Y/%m/%d').strftime('%Y/%m/%d')#2018/4/12 to 2018/04/12\n",
    "    \n",
    "    if artContent.strip()==\"\":artContent='-'\n",
    "    \n",
    "        \n",
    "    ##case 1,This article doesn't be replied\n",
    "    if len(row['artReply'])==0:\n",
    "        if len(artContent)>10000:\n",
    "            print('Over Csv words limit:'+str(row['nId']))\n",
    "            for artContent_sec in word_sec(artContent,10000):\n",
    "                data.append([ row['artTitle'] ,artContent_sec,artDate,row['artUrl'], row['_id'], row['nId'] ,row['artBrow_num'],row['artDisc_num'],row['artTrace_num'],row['artOpinion_num'],row['artEva_num'],'-','-','-' ])\n",
    "                \n",
    "        if  len(artContent)<=10000:  \n",
    "            data.append([ row['artTitle'] ,artContent,artDate,row['artUrl'], row['_id'], row['nId'] ,row['artBrow_num'],row['artDisc_num'],row['artTrace_num'],row['artOpinion_num'],row['artEva_num'],'-','-','-' ])\n",
    "        \n",
    "    \n",
    "    ##case 2,This article is replied\n",
    "    if len(row['artReply'])>0:\n",
    "        rep_name=''\n",
    "        rep_member=''\n",
    "        rep_date=''\n",
    "        #將content與每個回覆合併\n",
    "        for rep in row['artReply']:\n",
    "            rep_name=rep_name+'/'+rep['rep_name']\n",
    "            rep_member=rep_member+'/'+rep['rep_member']\n",
    "            rep_date=rep_date+'/'+datetime.strptime(rep['rep_date'], '%Y/%m/%d').strftime('%Y/%m/%d')#2018/4/12 to 2018/04/12\n",
    "            rep_content=rep['rep_content']\n",
    "            \n",
    "            if rep['rep_content'].strip()==\"\":rep_content='-'\n",
    "            artContent=artContent+rep['rep_content']\n",
    "            \n",
    "        if len(artContent)>10000:\n",
    "            print('Over Csv words limit:'+str(row['nId']))\n",
    "            for artContent_sec in word_sec(artContent,10000):\n",
    "                data.append([ row['artTitle'] ,artContent_sec,artDate,row['artUrl'], row['_id'], row['nId'] ,row['artBrow_num'],row['artDisc_num'],row['artTrace_num'],row['artOpinion_num'],row['artEva_num'],rep_name,rep_member,rep_date ])\n",
    "                \n",
    "        if  len(artContent)<=10000:  \n",
    "            data.append([ row['artTitle'] ,artContent,artDate,row['artUrl'], row['_id'], row['nId'] ,row['artBrow_num'],row['artDisc_num'],row['artTrace_num'],row['artOpinion_num'],row['artEva_num'],rep_name,rep_member,rep_date ])\n",
    "        \n",
    "        \n",
    "    \n",
    "\n",
    "\n",
    "with open('./mongo_to_csv/agri_craw2.csv','w',newline='',encoding='utf-8-sig') as f:\n",
    "    w = csv.writer(f)\n",
    "    w.writerows(data)"
   ]
  },
  {
   "cell_type": "code",
   "execution_count": null,
   "metadata": {},
   "outputs": [],
   "source": [
    "\n",
    "print(datetime.strptime('2018/05/12', '%Y/%m/%d').strftime('%Y/%m/%d') )\n"
   ]
  },
  {
   "cell_type": "code",
   "execution_count": null,
   "metadata": {
    "collapsed": true
   },
   "outputs": [],
   "source": [
    "list=[]\n",
    "f = open('C:/Users/dcw10/Desktop/123.txt', 'r',encoding='utf-8-sig')\n",
    "for row in csv.DictReader(f):\n",
    "    list.append(row['text'])\n",
    "f.close()\n",
    "for i in list:\n",
    "    print(i+',',end=\"\")"
   ]
  },
  {
   "cell_type": "code",
   "execution_count": null,
   "metadata": {
    "collapsed": true
   },
   "outputs": [],
   "source": [
    "list=[]\n",
    "f = open('./mongo_to_csv/agri_craw2.csv', 'r',encoding='utf-8-sig')\n",
    "for row in csv.DictReader(f):\n",
    "    list.append(len(row['artContent']) )\n",
    "f.close()\n",
    "print(max(list))"
   ]
  },
  {
   "cell_type": "code",
   "execution_count": null,
   "metadata": {
    "collapsed": true
   },
   "outputs": [],
   "source": [
    "\n",
    "def word_sec(word,l):\n",
    "    list=[]\n",
    "    sec_times=len(word)//l+1\n",
    "    \n",
    "    start=0\n",
    "    last=l\n",
    "    a=0\n",
    "    for i in range(0,sec_times):\n",
    "        \n",
    "        \n",
    "        list.append(word[start:last])\n",
    "        start=last\n",
    "        last=last+l\n",
    "    while '' in list:\n",
    "        list.remove('')\n",
    "\n",
    "         \n",
    "    return(list)\n"
   ]
  },
  {
   "cell_type": "code",
   "execution_count": null,
   "metadata": {
    "collapsed": true
   },
   "outputs": [],
   "source": [
    "import re\n",
    "def is_alpha(word):\n",
    "        try:\n",
    "             return word.encode('ascii').isalpha()\n",
    "        except:\n",
    "             return False\n"
   ]
  }
 ],
 "metadata": {
  "kernelspec": {
   "display_name": "Python 3",
   "language": "python",
   "name": "python3"
  },
  "language_info": {
   "codemirror_mode": {
    "name": "ipython",
    "version": 3
   },
   "file_extension": ".py",
   "mimetype": "text/x-python",
   "name": "python",
   "nbconvert_exporter": "python",
   "pygments_lexer": "ipython3",
   "version": "3.6.3"
  }
 },
 "nbformat": 4,
 "nbformat_minor": 2
}
