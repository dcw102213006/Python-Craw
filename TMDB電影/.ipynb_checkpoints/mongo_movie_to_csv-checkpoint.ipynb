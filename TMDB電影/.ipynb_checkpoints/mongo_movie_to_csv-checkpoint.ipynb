{
 "cells": [
  {
   "cell_type": "code",
   "execution_count": null,
   "metadata": {
    "collapsed": true
   },
   "outputs": [],
   "source": [
    "import pymongo  \n",
    "from pymongo import MongoClient\n",
    "import pyodbc\n",
    "import csv\n",
    "import time\n",
    "from datetime import datetime"
   ]
  },
  {
   "cell_type": "code",
   "execution_count": null,
   "metadata": {
    "collapsed": true
   },
   "outputs": [],
   "source": [
    "\n",
    "###連接MONGO\n",
    "\n",
    "\n",
    "uri = \"\"\n",
    "client = MongoClient(uri)\n",
    "\n",
    "db = client.BI_Project\n",
    "one_document = db.movie_craw\n",
    "\n",
    "\n",
    "movie_table=one_document.find({'error':0}).sort('artDate', pymongo.ASCENDING)\n"
   ]
  },
  {
   "cell_type": "code",
   "execution_count": null,
   "metadata": {},
   "outputs": [],
   "source": [
    "\n",
    "data = [\n",
    "  ['artTitle', 'artContent','artDate', 'artUrl','_id', 'nId', 'movie_id','Disscussion_board']\n",
    " \n",
    "]\n",
    "for row in movie_table:\n",
    "    artContent=row['artContent'].replace('\\xa0',' ')\n",
    "    artDate=row['artDate'].strip()\n",
    "    if len(artContent)>10000:\n",
    "        print('Over Csv words limit:'+str(row['nId']))\n",
    "        for artContent_sec in word_sec(artContent,10000):\n",
    "            data.append([row['artTitle'] ,artContent_sec,artDate,row['artUrl'], row['_id'], row['nId'] ,row['movie_id'],row['Disscussion_board']])\n",
    "    if  len(artContent)<=10000:  \n",
    "        data.append([ row['artTitle'] ,artContent,artDate,row['artUrl'], row['_id'], row['nId'] ,row['movie_id'],row['Disscussion_board']])\n",
    "        \n",
    "with open('./movie_corpus.csv','w',newline='',encoding='utf-8-sig') as f:\n",
    "    w = csv.writer(f)\n",
    "    w.writerows(data)"
   ]
  },
  {
   "cell_type": "code",
   "execution_count": null,
   "metadata": {
    "collapsed": true
   },
   "outputs": [],
   "source": [
    "def word_sec(word,l):\n",
    "    list=[]\n",
    "    sec_times=len(word)//l+1\n",
    "    \n",
    "    start=0\n",
    "    last=l\n",
    "    a=0\n",
    "    for i in range(0,sec_times):\n",
    "        \n",
    "        \n",
    "        list.append(word[start:last])\n",
    "        start=last\n",
    "        last=last+l\n",
    "    while '' in list:\n",
    "        list.remove('')\n",
    "\n",
    "         \n",
    "    return(list)\n"
   ]
  },
  {
   "cell_type": "code",
   "execution_count": null,
   "metadata": {
    "collapsed": true
   },
   "outputs": [],
   "source": [
    "f = open('./tmdb_5000_credits.csv', 'r',encoding='utf-8-sig')\n",
    "cast_list=[]\n",
    "for row in csv.reader(f):\n",
    "    \n",
    "    cast_list.append(row[2])\n",
    "f.close()"
   ]
  },
  {
   "cell_type": "code",
   "execution_count": null,
   "metadata": {
    "collapsed": true
   },
   "outputs": [],
   "source": []
  }
 ],
 "metadata": {
  "kernelspec": {
   "display_name": "Python 3",
   "language": "python",
   "name": "python3"
  },
  "language_info": {
   "codemirror_mode": {
    "name": "ipython",
    "version": 3
   },
   "file_extension": ".py",
   "mimetype": "text/x-python",
   "name": "python",
   "nbconvert_exporter": "python",
   "pygments_lexer": "ipython3",
   "version": "3.6.3"
  }
 },
 "nbformat": 4,
 "nbformat_minor": 2
}
